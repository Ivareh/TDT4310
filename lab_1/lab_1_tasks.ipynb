{
 "cells": [
  {
   "cell_type": "markdown",
   "metadata": {},
   "source": [
    "# Lab 1\n",
    "Hi! This might be your first encounter with natural langauge processing, and we're going straight into some practical tasks to give you an idea of what this thing is all about. Programming experience (in Python) beyond the introductory courses is to be expected, and it helps to be somewhat familiar with machine learning and statistics. But for now, we'll mostly focus on high-level concepts and how to apply them in practice."
   ]
  },
  {
   "cell_type": "markdown",
   "metadata": {},
   "source": [
    "# 1.1 Documents and words"
   ]
  }
 ],
 "metadata": {
  "language_info": {
   "name": "python"
  },
  "orig_nbformat": 4
 },
 "nbformat": 4,
 "nbformat_minor": 2
}

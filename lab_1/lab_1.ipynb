{
 "cells": [
  {
   "cell_type": "code",
   "execution_count": 1,
   "metadata": {},
   "outputs": [],
   "source": [
    "# Task 1 - introductory text processing\n",
    "\n",
    "words = [\"further\", \"Forward\", \"Foreign\", \"financE\", \"Forgive\", \"feature\", \"federal\", \"failurE\", \"Feeling\", \"finding\", \"freedom\", \"Foundry\"]\n",
    "\n",
    "# tasks:\n",
    "# a) lowercase all words\n",
    "# b) find all words that start with \"f\" and end with \"e\""
   ]
  },
  {
   "cell_type": "code",
   "execution_count": 4,
   "metadata": {},
   "outputs": [],
   "source": [
    "def task_1a(words):\n",
    "    return [word.lower() for word in words]\n",
    "\n",
    "lowercase = task_1a(words)\n",
    "assert(lowercase == ['further', 'forward', 'foreign', 'finance', 'forgive', 'feature', 'federal', 'failure', 'feeling', 'finding', 'freedom', 'foundry'])"
   ]
  },
  {
   "cell_type": "code",
   "execution_count": 6,
   "metadata": {},
   "outputs": [],
   "source": [
    "def task_1b(words):\n",
    "    return [word for word in words if word.lower().startswith(\"f\") and word.lower().endswith(\"e\")]\n",
    "\n",
    "assert(task_1b(lowercase) == ['finance', 'forgive', 'feature', 'failure'])\n"
   ]
  },
  {
   "cell_type": "code",
   "execution_count": 39,
   "metadata": {},
   "outputs": [
    {
     "data": {
      "text/plain": [
       "b'gASVLQAAAAAAAABdlCiMB2ZpbmFuY2WUjAdmb3JnaXZllIwHZmVhdHVyZZSMB2ZhaWx1cmWUZS4='"
      ]
     },
     "execution_count": 39,
     "metadata": {},
     "output_type": "execute_result"
    }
   ],
   "source": [
    "import hashlib\n",
    "import base64\n",
    "\n",
    "\n",
    "import pickle\n",
    "sample = ['finance', 'forgive', 'feature', 'failure']\n",
    "\n",
    "# pickle the sample\n",
    "pickled = pickle.dumps(sample)\n",
    "\n",
    "# cipher the pickled sample using the secret key\n",
    "ciphered_pickle = base64.b64encode(pickled)\n",
    "ciphered_pickle."
   ]
  },
  {
   "cell_type": "code",
   "execution_count": null,
   "metadata": {},
   "outputs": [],
   "source": [
    "# encrypt and decrypt using custom AES\n",
    "\n",
    "import base64\n",
    "import hashlib\n",
    "\n",
    "\n",
    "class AES:\n",
    "    \n",
    "def encrypt(data, password):\n",
    "    return "
   ]
  },
  {
   "cell_type": "code",
   "execution_count": 42,
   "metadata": {},
   "outputs": [
    {
     "data": {
      "text/plain": [
       "b'Hj3gXHvrfEK8BHNzs6akZZZg_WFfdK88elExuNWn7Gw='"
      ]
     },
     "execution_count": 42,
     "metadata": {},
     "output_type": "execute_result"
    }
   ],
   "source": [
    "from cryptography.fernet import Fernet\n",
    "key = Fernet.generate_key()\n",
    "cipher_suite = Fernet(key)\n",
    "key"
   ]
  },
  {
   "cell_type": "code",
   "execution_count": 43,
   "metadata": {},
   "outputs": [
    {
     "name": "stdout",
     "output_type": "stream",
     "text": [
      "1a ['further', 'forward', 'foreign', 'finance', 'forgive', 'feature', 'federal', 'failure', 'feeling', 'finding', 'freedom', 'foundry']\n",
      "b'gAAAAABjif_CLoRvzvyPoFf4ZOw68UoiVT6t3pYi27RYTh1Jc_Qi3BsgQeM-BKS9NCxsbEsQrGgg14g6qE1kXqIL2bdaKcY80dR_fSTT6S2jeLLcW5rQOdkJlh54wd0QlXFJkmunsSUQAc65mbZlFhiXxDq9mL1TQDbapBdfnebv8ULKec_n1cquHR6j9y0JyGvojoTr4ngwDeaNQ7nTxG7E8KHxSQ6ENXsmWCfcc847YA5VUgYW3Ztcyqi2gVkBSawSgt3JCaMv'\n",
      "1b ['finance', 'forgive', 'feature', 'failure']\n",
      "b'gAAAAABjif_CoP4MNZHLAcs8-Gp_IBNES-pTpgA8rmmg4DwD-SbIXGheruONe00L3PYkLQgD7Y8vdXvoTE33VZTSTUeGghXepgY3SAcTbR20VTUSfYVqfsBEelmAVL3FcI4mNHYoe9Cm2csCyWUcfBuzbo2phx7yEA=='\n"
     ]
    }
   ],
   "source": [
    "solutions = {\n",
    "    \"1a\": ['further', 'forward', 'foreign', 'finance', 'forgive', 'feature', 'federal', 'failure', 'feeling', 'finding', 'freedom', 'foundry'],\n",
    "    \"1b\": ['finance', 'forgive', 'feature', 'failure']\n",
    "}\n",
    "\n",
    "ground_truth_file = \"HASHED_ANSWERS.txt\"\n",
    "with open(ground_truth_file, \"w\") as f:\n",
    "    f.write(\"\")\n",
    "    for task, answer in solutions.items():\n",
    "        print(task, answer)\n",
    "        data = pickle.dumps(answer)\n",
    "        token = cipher_suite.encrypt(data)\n",
    "        print(token)\n",
    "        "
   ]
  },
  {
   "cell_type": "code",
   "execution_count": 46,
   "metadata": {},
   "outputs": [
    {
     "data": {
      "text/plain": [
       "['further',\n",
       " 'forward',\n",
       " 'foreign',\n",
       " 'finance',\n",
       " 'forgive',\n",
       " 'feature',\n",
       " 'federal',\n",
       " 'failure',\n",
       " 'feeling',\n",
       " 'finding',\n",
       " 'freedom',\n",
       " 'foundry']"
      ]
     },
     "execution_count": 46,
     "metadata": {},
     "output_type": "execute_result"
    }
   ],
   "source": [
    "sample = b'gAAAAABjif_CLoRvzvyPoFf4ZOw68UoiVT6t3pYi27RYTh1Jc_Qi3BsgQeM-BKS9NCxsbEsQrGgg14g6qE1kXqIL2bdaKcY80dR_fSTT6S2jeLLcW5rQOdkJlh54wd0QlXFJkmunsSUQAc65mbZlFhiXxDq9mL1TQDbapBdfnebv8ULKec_n1cquHR6j9y0JyGvojoTr4ngwDeaNQ7nTxG7E8KHxSQ6ENXsmWCfcc847YA5VUgYW3Ztcyqi2gVkBSawSgt3JCaMv'\n",
    "decrypted_sample = cipher_suite.decrypt(sample)\n",
    "pickle.loads(decrypted_sample)"
   ]
  },
  {
   "cell_type": "code",
   "execution_count": 18,
   "metadata": {},
   "outputs": [],
   "source": [
    "kA# load hashed answers:\n",
    "hashed_answers = [line.strip() for line in open(ground_truth_file, \"r\").readlines()]"
   ]
  },
  {
   "cell_type": "code",
   "execution_count": 20,
   "metadata": {},
   "outputs": [
    {
     "ename": "AttributeError",
     "evalue": "'str' object has no attribute 'decode'",
     "output_type": "error",
     "traceback": [
      "\u001b[0;31m---------------------------------------------------------------------------\u001b[0m",
      "\u001b[0;31mAttributeError\u001b[0m                            Traceback (most recent call last)",
      "\u001b[0;32m/var/folders/0k/1bg63zt532nb9d86g5tk_6vh0000gn/T/ipykernel_78759/1434128842.py\u001b[0m in \u001b[0;36m<module>\u001b[0;34m\u001b[0m\n\u001b[1;32m      1\u001b[0m \u001b[0mx\u001b[0m \u001b[0;34m=\u001b[0m \u001b[0mhashed_answers\u001b[0m\u001b[0;34m[\u001b[0m\u001b[0;36m0\u001b[0m\u001b[0;34m]\u001b[0m\u001b[0;34m\u001b[0m\u001b[0;34m\u001b[0m\u001b[0m\n\u001b[1;32m      2\u001b[0m \u001b[0;31m# decode the first hashed answer using the secret key\u001b[0m\u001b[0;34m\u001b[0m\u001b[0;34m\u001b[0m\u001b[0m\n\u001b[0;32m----> 3\u001b[0;31m \u001b[0mx\u001b[0m\u001b[0;34m.\u001b[0m\u001b[0mdecode\u001b[0m\u001b[0;34m(\u001b[0m\u001b[0;34m\"utf-8\"\u001b[0m\u001b[0;34m)\u001b[0m\u001b[0;34m\u001b[0m\u001b[0;34m\u001b[0m\u001b[0m\n\u001b[0m",
      "\u001b[0;31mAttributeError\u001b[0m: 'str' object has no attribute 'decode'"
     ]
    }
   ],
   "source": [
    "x = hashed_answers[0]\n",
    "# decode the first hashed answer using the secret key\n",
    "x\n"
   ]
  }
 ],
 "metadata": {
  "kernelspec": {
   "display_name": "Python 3.9.15 ('base')",
   "language": "python",
   "name": "python3"
  },
  "language_info": {
   "codemirror_mode": {
    "name": "ipython",
    "version": 3
   },
   "file_extension": ".py",
   "mimetype": "text/x-python",
   "name": "python",
   "nbconvert_exporter": "python",
   "pygments_lexer": "ipython3",
   "version": "3.9.15 (main, Nov  4 2022, 11:11:31) \n[Clang 12.0.0 ]"
  },
  "orig_nbformat": 4,
  "vscode": {
   "interpreter": {
    "hash": "2cdb944d970988b940f8c8f466d575513dee343a6e16a2176c3bff028905cb8f"
   }
  }
 },
 "nbformat": 4,
 "nbformat_minor": 2
}

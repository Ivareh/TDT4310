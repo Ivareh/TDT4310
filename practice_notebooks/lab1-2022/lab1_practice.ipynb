{
 "cells": [
  {
   "cell_type": "code",
   "execution_count": 2,
   "metadata": {},
   "outputs": [],
   "source": [
    "import nltk"
   ]
  },
  {
   "cell_type": "code",
   "execution_count": 3,
   "metadata": {},
   "outputs": [],
   "source": [
    "# load a corpus:\n",
    "corpus = nltk.corpus.gutenberg"
   ]
  },
  {
   "cell_type": "code",
   "execution_count": 4,
   "metadata": {},
   "outputs": [
    {
     "name": "stdout",
     "output_type": "stream",
     "text": [
      "['subdir']\n"
     ]
    }
   ],
   "source": [
    "print([fn for fn in dir(corpus) if \"_\" not in fn])"
   ]
  },
  {
   "cell_type": "code",
   "execution_count": 5,
   "metadata": {},
   "outputs": [
    {
     "name": "stdout",
     "output_type": "stream",
     "text": [
      "Help on method fileids in module nltk.corpus.reader.api:\n",
      "\n",
      "fileids() method of nltk.corpus.reader.plaintext.PlaintextCorpusReader instance\n",
      "    Return a list of file identifiers for the fileids that make up\n",
      "    this corpus.\n",
      "\n"
     ]
    }
   ],
   "source": [
    "help(corpus.fileids)"
   ]
  },
  {
   "cell_type": "code",
   "execution_count": 6,
   "metadata": {},
   "outputs": [
    {
     "name": "stdout",
     "output_type": "stream",
     "text": [
      "['austen-emma.txt', 'austen-persuasion.txt', 'austen-sense.txt', 'bible-kjv.txt', 'blake-poems.txt', 'bryant-stories.txt', 'burgess-busterbrown.txt', 'carroll-alice.txt', 'chesterton-ball.txt', 'chesterton-brown.txt', 'chesterton-thursday.txt', 'edgeworth-parents.txt', 'melville-moby_dick.txt', 'milton-paradise.txt', 'shakespeare-caesar.txt', 'shakespeare-hamlet.txt', 'shakespeare-macbeth.txt', 'whitman-leaves.txt']\n"
     ]
    }
   ],
   "source": [
    "print(corpus.fileids())"
   ]
  },
  {
   "cell_type": "code",
   "execution_count": 7,
   "metadata": {},
   "outputs": [],
   "source": [
    "emma = corpus.sents(\"austen-emma.txt\")"
   ]
  },
  {
   "cell_type": "code",
   "execution_count": 8,
   "metadata": {},
   "outputs": [
    {
     "data": {
      "text/plain": [
       "7752"
      ]
     },
     "execution_count": 8,
     "metadata": {},
     "output_type": "execute_result"
    }
   ],
   "source": [
    "len(emma)"
   ]
  },
  {
   "cell_type": "code",
   "execution_count": 9,
   "metadata": {},
   "outputs": [
    {
     "name": "stdout",
     "output_type": "stream",
     "text": [
      "['A', 'large', 'debt', 'of', 'gratitude', 'was', 'owing', 'here', ';', 'but', 'the', 'intercourse', 'of', 'the', 'last', 'seven', 'years', ',', 'the', 'equal', 'footing', 'and', 'perfect', 'unreserve', 'which', 'had', 'soon', 'followed', 'Isabella', \"'\", 's', 'marriage', ',', 'on', 'their', 'being', 'left', 'to', 'each', 'other', ',', 'was', 'yet', 'a', 'dearer', ',', 'tenderer', 'recollection', '.']\n"
     ]
    }
   ],
   "source": [
    "print(emma[20])"
   ]
  },
  {
   "cell_type": "code",
   "execution_count": 10,
   "metadata": {},
   "outputs": [
    {
     "name": "stdout",
     "output_type": "stream",
     "text": [
      "['[', 'Emma', 'by', 'Jane', 'Austen', '1816', ']', 'VOLUME', 'I', 'CHAPTER', 'I', 'Emma', 'Woodhouse', ',', 'handsome', ',', 'clever', ',', 'and', 'rich', ',', 'with', 'a', 'comfortable', 'home', 'and', 'happy', 'disposition', ',', 'seemed', 'to', 'unite', 'some', 'of', 'the', 'best', 'blessings', 'of', 'existence', ';', 'and', 'had', 'lived', 'nearly', 'twenty', '-', 'one', 'years', 'in', 'the', 'world', 'with', 'very', 'little', 'to', 'distress', 'or', 'vex', 'her', '.', 'She', 'was', 'the', 'youngest', 'of', 'the', 'two', 'daughters', 'of', 'a', 'most', 'affectionate', ',', 'indulgent', 'father', ';', 'and', 'had', ',', 'in', 'consequence', 'of', 'her', 'sister', \"'\", 's', 'marriage', ',', 'been', 'mistress', 'of', 'his', 'house', 'from', 'a', 'very', 'early', 'period', '.', 'Her', 'mother', 'had', 'died', 'too', 'long', 'ago', 'for', 'her', 'to', 'have', 'more', 'than', 'an', 'indistinct', 'remembrance', 'of', 'her', 'caresses', ';', 'and', 'her', 'place', 'had', 'been', 'supplied', 'by', 'an', 'excellent', 'woman', 'as', 'governess', ',', 'who', 'had', 'fallen', 'little', 'short', 'of', 'a', 'mother', 'in', 'affection', '.', 'Sixteen', 'years', 'had', 'Miss', 'Taylor', 'been', 'in', 'Mr', '.', 'Woodhouse', \"'\", 's', 'family', ',', 'less', 'as', 'a', 'governess', 'than', 'a', 'friend', ',', 'very', 'fond', 'of', 'both', 'daughters', ',', 'but', 'particularly', 'of', 'Emma', '.', 'Between', '_them_', 'it', 'was', 'more', 'the', 'intimacy', 'of', 'sisters', '.', 'Even', 'before', 'Miss', 'Taylor', 'had', 'ceased', 'to', 'hold', 'the', 'nominal', 'office', 'of', 'governess', ',']\n"
     ]
    }
   ],
   "source": [
    "emma_words = corpus.words(\"austen-emma.txt\")\n",
    "print(list(emma_words[0:200]))"
   ]
  },
  {
   "cell_type": "markdown",
   "metadata": {},
   "source": [
    "# In the context of a smart keyboard\n",
    "Would the novel \"Emma\" be considered a good fit for the smart keyboard for *you*? Why or why not? What other technical issues do you spot with the text above? Feel free to explore more of teh text as well."
   ]
  },
  {
   "cell_type": "markdown",
   "metadata": {},
   "source": [
    "**TODO: your answer here**"
   ]
  },
  {
   "cell_type": "markdown",
   "metadata": {},
   "source": [
    "# Inspecting the corpus:"
   ]
  },
  {
   "cell_type": "code",
   "execution_count": 11,
   "metadata": {},
   "outputs": [
    {
     "name": "stdout",
     "output_type": "stream",
     "text": [
      "\n",
      "    192427 words in the novel.\n",
      "    7811 unique words in the novel.\n",
      "    7752 sentences in the novel.\n",
      "    24.82 average sentence length.\n",
      "    3.76 average word length.\n",
      "\n"
     ]
    }
   ],
   "source": [
    "# let's explore the contents of the novel:\n",
    "print(f\"\"\"\n",
    "    {len(emma_words)} words in the novel.\n",
    "    {len(set(emma_words))} unique words in the novel.\n",
    "    {len(emma)} sentences in the novel.\n",
    "    {round(len(emma_words) / len(emma), 2)} average sentence length.\n",
    "    {round(sum([len(w) for w in emma_words]) / len(emma_words), 2)} average word length.\n",
    "\"\"\")"
   ]
  },
  {
   "cell_type": "code",
   "execution_count": 12,
   "metadata": {},
   "outputs": [
    {
     "data": {
      "image/png": "[encoded data removed]",
      "text/plain": [
       "<Figure size 600x500 with 1 Axes>"
      ]
     },
     "metadata": {},
     "output_type": "display_data"
    }
   ],
   "source": [
    "# now let's look at some more useful features:\n",
    "# such as word frequency, collocations, concordance\n",
    "import matplotlib.pyplot as plt\n",
    "\n",
    "def plot_top_n(words, N=20):\n",
    "    word_freq = nltk.FreqDist(words)\n",
    "    top_n = word_freq.most_common(N)\n",
    "    fig, ax = plt.subplots(figsize=(6, N/4))\n",
    "\n",
    "    fig.suptitle(f\"Top {N} most frequent words in Emma\")\n",
    "    words, values = zip(*top_n)\n",
    "    ax.barh(words, values)\n",
    "    ax.set_xlabel(\"Frequency\")\n",
    "    ax.set_ylabel(\"Word\")\n",
    "    ax.tick_params(axis=\"both\", labelsize=9)\n",
    "    plt.show()\n",
    "\n",
    "plot_top_n(emma_words)"
   ]
  },
  {
   "cell_type": "code",
   "execution_count": 13,
   "metadata": {},
   "outputs": [],
   "source": [
    "# use nltks collocation finder to find tfidf\n",
    "from nltk.text import TextCollection\n",
    "\n",
    "nltk_textcollection = TextCollection(emma)"
   ]
  },
  {
   "cell_type": "code",
   "execution_count": 14,
   "metadata": {},
   "outputs": [
    {
     "name": "stdout",
     "output_type": "stream",
     "text": [
      "['You', 'do', 'not', 'think', 'I', 'could', 'mean', '_you_', ',', 'or', 'suppose', 'Mr', '.', 'Knightley', 'to', 'mean', '_you_', '.']\n"
     ]
    }
   ],
   "source": [
    "sample_sent = emma[100]\n",
    "print(sample_sent)"
   ]
  },
  {
   "cell_type": "code",
   "execution_count": 12,
   "metadata": {},
   "outputs": [
    {
     "name": "stdout",
     "output_type": "stream",
     "text": [
      "\n",
      "      Unigrams: ['I', \"'m\", 'gon', 'na', 'go', 'to', 'the', 'mall', 'today', '.', 'I', \"'m\", 'gon', 'na', 'get', 'some', 'new', 'shoes', ',', 'a', 'super-fancy', 'new', 'shirt', ',', 'etc.', ',', 'etc.', ',', 'etc', '.']\n",
      "      Bigrams: [('I', \"'m\"), (\"'m\", 'gon'), ('gon', 'na'), ('na', 'go'), ('go', 'to'), ('to', 'the'), ('the', 'mall'), ('mall', 'today'), ('today', '.'), ('.', 'I'), ('I', \"'m\"), (\"'m\", 'gon'), ('gon', 'na'), ('na', 'get'), ('get', 'some'), ('some', 'new'), ('new', 'shoes'), ('shoes', ','), (',', 'a'), ('a', 'super-fancy'), ('super-fancy', 'new'), ('new', 'shirt'), ('shirt', ','), (',', 'etc.'), ('etc.', ','), (',', 'etc.'), ('etc.', ','), (',', 'etc'), ('etc', '.')]\n",
      "      Tri-grams: [('I', \"'m\", 'gon'), (\"'m\", 'gon', 'na'), ('gon', 'na', 'go'), ('na', 'go', 'to'), ('go', 'to', 'the'), ('to', 'the', 'mall'), ('the', 'mall', 'today'), ('mall', 'today', '.'), ('today', '.', 'I'), ('.', 'I', \"'m\"), ('I', \"'m\", 'gon'), (\"'m\", 'gon', 'na'), ('gon', 'na', 'get'), ('na', 'get', 'some'), ('get', 'some', 'new'), ('some', 'new', 'shoes'), ('new', 'shoes', ','), ('shoes', ',', 'a'), (',', 'a', 'super-fancy'), ('a', 'super-fancy', 'new'), ('super-fancy', 'new', 'shirt'), ('new', 'shirt', ','), ('shirt', ',', 'etc.'), (',', 'etc.', ','), ('etc.', ',', 'etc.'), (',', 'etc.', ','), ('etc.', ',', 'etc'), (',', 'etc', '.')]\n",
      "      \n"
     ]
    }
   ],
   "source": [
    "s = \"I'm gonna go to the mall today. I'm gonna get some new shoes, a super-fancy new shirt, etc., etc., etc.\"\n",
    "\n",
    "unigrams = nltk.word_tokenize(s)\n",
    "bigrams = list(nltk.bigrams(unigrams))\n",
    "trigrams = list(nltk.trigrams(unigrams))\n",
    "print(f\"\"\"\n",
    "      Unigrams: {unigrams}\n",
    "      Bigrams: {bigrams}\n",
    "      Tri-grams: {trigrams}\n",
    "      \"\"\")"
   ]
  },
  {
   "cell_type": "code",
   "execution_count": 16,
   "metadata": {},
   "outputs": [
    {
     "data": {
      "text/plain": [
       "[0.031668862453473466,\n",
       " 0.07354963172805294,\n",
       " 0.09309530286708118,\n",
       " 0.18461979981587104,\n",
       " 0.04236088892564737,\n",
       " 0.04944313013185211,\n",
       " 0.03603747461977602,\n",
       " 0.038153437046225466,\n",
       " 0.025751483669045665,\n",
       " 0.0]"
      ]
     },
     "execution_count": 16,
     "metadata": {},
     "output_type": "execute_result"
    }
   ],
   "source": [
    "unseen_sent = \"I am a sentence that is not in the corpus\"\n",
    "# produce all tf_idf scores for the given sentence\n",
    "tf_vector = []\n",
    "for word in unseen_sent.split():\n",
    "    tf_vector.append(nltk_textcollection.tf_idf(word, unseen_sent))\n",
    "tf_vector"
   ]
  },
  {
   "cell_type": "markdown",
   "metadata": {},
   "source": [
    "# From the word frequencies...\n",
    "Do you spot any potential issues when building a smart keyboard from existing data?"
   ]
  },
  {
   "cell_type": "code",
   "execution_count": 14,
   "metadata": {},
   "outputs": [
    {
     "name": "stdout",
     "output_type": "stream",
     "text": [
      "['adventure', 'belles_lettres', 'editorial', 'fiction', 'government', 'hobbies', 'humor', 'learned', 'lore', 'mystery', 'news', 'religion', 'reviews', 'romance', 'science_fiction']\n"
     ]
    }
   ],
   "source": [
    "# let's load another corpus with some more interesting data:\n",
    "from nltk.corpus import brown\n",
    "print(brown.categories())"
   ]
  },
  {
   "cell_type": "code",
   "execution_count": 15,
   "metadata": {},
   "outputs": [],
   "source": [
    "# now this could be used to build different kinds of keyboard predictors, which could be interesting to experiment with!\n",
    "# let's select two opposing categories:\n",
    "humor = brown.sents(categories=\"humor\")\n",
    "humor_words = brown.words(categories=\"humor\")\n",
    "scifi = brown.sents(categories=\"science_fiction\")\n",
    "scifi_words = brown.words(categories=\"science_fiction\")"
   ]
  },
  {
   "cell_type": "code",
   "execution_count": 16,
   "metadata": {},
   "outputs": [
    {
     "ename": "NameError",
     "evalue": "name 'plot_top_n' is not defined",
     "output_type": "error",
     "traceback": [
      "\u001b[1;31m---------------------------------------------------------------------------\u001b[0m",
      "\u001b[1;31mNameError\u001b[0m                                 Traceback (most recent call last)",
      "Cell \u001b[1;32mIn[16], line 1\u001b[0m\n\u001b[1;32m----> 1\u001b[0m \u001b[43mplot_top_n\u001b[49m(humor_words, N\u001b[38;5;241m=\u001b[39m\u001b[38;5;241m30\u001b[39m)\n",
      "\u001b[1;31mNameError\u001b[0m: name 'plot_top_n' is not defined"
     ]
    }
   ],
   "source": [
    "plot_top_n(humor_words, N=30)"
   ]
  },
  {
   "cell_type": "code",
   "execution_count": 17,
   "metadata": {},
   "outputs": [
    {
     "ename": "NameError",
     "evalue": "name 'plot_top_n' is not defined",
     "output_type": "error",
     "traceback": [
      "\u001b[1;31m---------------------------------------------------------------------------\u001b[0m",
      "\u001b[1;31mNameError\u001b[0m                                 Traceback (most recent call last)",
      "Cell \u001b[1;32mIn[17], line 1\u001b[0m\n\u001b[1;32m----> 1\u001b[0m \u001b[43mplot_top_n\u001b[49m(scifi_words, N\u001b[38;5;241m=\u001b[39m\u001b[38;5;241m40\u001b[39m)\n",
      "\u001b[1;31mNameError\u001b[0m: name 'plot_top_n' is not defined"
     ]
    }
   ],
   "source": [
    "plot_top_n(scifi_words, N=40)"
   ]
  },
  {
   "cell_type": "markdown",
   "metadata": {},
   "source": [
    "# Hmm.\n",
    "The differences aren't exactly what we may have expected. Let's look at more categories.\n",
    "\n",
    "### a)\n",
    "From the output, we see that the top words are largely similar, and contain common words like \"the\" and \"of\". Additionally, punctuations take up a majority of the \"words\"/tokens"
   ]
  },
  {
   "cell_type": "code",
   "execution_count": 18,
   "metadata": {},
   "outputs": [
    {
     "name": "stdout",
     "output_type": "stream",
     "text": [
      "category: science_fiction\n",
      "[(',', 791), ('.', 786), ('the', 652), ('of', 321), ('to', 305)]\n",
      "category: humor\n",
      "[(',', 1331), ('the', 930), ('.', 877), ('of', 515), ('and', 512)]\n",
      "category: government\n",
      "[('the', 4143), (',', 3405), ('of', 3031), ('.', 2493), ('and', 1923)]\n",
      "category: mystery\n",
      "[('.', 3326), (',', 2805), ('the', 2573), ('to', 1284), ('and', 1215)]\n",
      "category: news\n",
      "[('the', 5580), (',', 5188), ('.', 4030), ('of', 2849), ('and', 2146)]\n"
     ]
    }
   ],
   "source": [
    "# most common words\n",
    "def most_common(words, n=5):\n",
    "    fdist = nltk.FreqDist(words)\n",
    "    return fdist.most_common(n)\n",
    "\n",
    "categories = [\"science_fiction\", \"humor\", \"government\", \"mystery\", \"news\"]\n",
    "for c in categories:\n",
    "    words = brown.words(categories=c)\n",
    "    print(\"category: {}\".format(c))\n",
    "    print(most_common(words))"
   ]
  },
  {
   "cell_type": "markdown",
   "metadata": {},
   "source": [
    "### b)\n",
    "With stopwords removed, we're left with only symbols. A potential improvement on this is to check the length of the word, e.g. to filter out all words below 2 characters. Additionally, we could make some regex filter to remove symbols entirely. However, we want to be careful here as apostrophes, hyphens, commas, etc, may provide value."
   ]
  },
  {
   "cell_type": "code",
   "execution_count": 22,
   "metadata": {},
   "outputs": [
    {
     "name": "stdout",
     "output_type": "stream",
     "text": [
      "category: science_fiction\n",
      "[(',', 791), ('.', 786), ('``', 235), (\"''\", 235), ('?', 158)]\n",
      "category: humor\n",
      "[(',', 1331), ('.', 877), ('``', 343), (\"''\", 340), ('?', 152)]\n",
      "category: government\n",
      "[(',', 3405), ('.', 2493), (';', 444), (')', 345), ('(', 342)]\n",
      "category: mystery\n",
      "[('.', 3326), (',', 2805), ('``', 740), (\"''\", 738), ('?', 664)]\n",
      "category: news\n",
      "[(',', 5188), ('.', 4030), ('``', 732), (\"''\", 702), ('said', 402)]\n"
     ]
    }
   ],
   "source": [
    "stop_words = nltk.corpus.stopwords.words('english')\n",
    "\n",
    "for c in categories:\n",
    "    words = brown.words(categories=c)\n",
    "    words = [w for w in words if w.lower() not in stop_words]\n",
    "    print(\"category: {}\".format(c))\n",
    "    print(most_common(words))"
   ]
  },
  {
   "cell_type": "code",
   "execution_count": 23,
   "metadata": {},
   "outputs": [
    {
     "name": "stdout",
     "output_type": "stream",
     "text": [
      "category: science_fiction\n",
      "['would', 'could', 'said', 'one', 'time', 'ekstrohm', 'helva', 'mercer', 'long', 'like', 'know', 'people', 'hal', \"b'dikkat\", 'mike', 'ship', 'back', 'man', 'jack', 'first']\n",
      "category: humor\n",
      "['said', 'one', 'would', 'time', 'even', 'like', 'mr.', 'could', 'way', 'things', 'two', 'get', 'little', 'mother', 'arlene', 'man', 'made', 'years', 'day', 'never']\n",
      "category: government\n",
      "['state', 'year', 'states', 'may', 'united', 'new', 'development', 'one', 'would', 'made', 'business', 'government', 'years', 'time', 'must', 'fiscal', 'shall', 'general', 'tax', 'also']\n",
      "category: mystery\n",
      "['said', 'would', 'one', 'back', 'could', 'like', 'man', 'get', 'two', 'know', 'time', 'got', 'door', 'see', 'went', 'around', 'still', 'right', 'car', 'even']\n",
      "category: news\n",
      "['said', 'mrs.', 'would', 'new', 'one', 'last', 'two', 'mr.', 'first', 'state', 'year', 'president', 'home', 'also', 'made', 'time', 'years', 'three', 'house', 'week']\n"
     ]
    }
   ],
   "source": [
    "def valid_word(word):\n",
    "    not_stop = word.lower() not in stop_words\n",
    "    valid_length = len(word) > 2\n",
    "    return not_stop and valid_length\n",
    "\n",
    "def just_words(common_words):\n",
    "    return [w[0] for w in common_words]\n",
    "\n",
    "for c in categories:\n",
    "    words = brown.words(categories=c)\n",
    "    words = [w.lower() for w in words if valid_word(w)]\n",
    "    print(\"category: {}\".format(c))\n",
    "    print(just_words(most_common(words, n=20)))"
   ]
  },
  {
   "cell_type": "code",
   "execution_count": 24,
   "metadata": {},
   "outputs": [
    {
     "data": {
      "image/png": "[encoded data removed]",
      "text/plain": [
       "<Figure size 640x480 with 1 Axes>"
      ]
     },
     "metadata": {},
     "output_type": "display_data"
    }
   ],
   "source": [
    "cfd = nltk.ConditionalFreqDist(\n",
    "    (search_word, c)\n",
    "    for c in categories\n",
    "    for w in brown.words(categories=c)\n",
    "    for search_word in [\"men\", \"women\", \"people\"]\n",
    "    if w.lower() == search_word\n",
    ")\n",
    "cfd.plot();"
   ]
  },
  {
   "cell_type": "code",
   "execution_count": 25,
   "metadata": {},
   "outputs": [
    {
     "name": "stdout",
     "output_type": "stream",
     "text": [
      "Displaying 6 of 6 matches:\n",
      "Yes sir ! ! Conferences become very popular . When a plan burst its seams , has\n",
      "ve that their lieutenant , the most popular officer in the regiment , was dead \n",
      " long ago `` Denver Mud '' was most popular . Chiggers were a common pest along\n",
      "hn Vinnicum Morse was the immediate popular suspect . His sudden unannounced ap\n",
      " to the nineteenth century it was a popular practice to flood the piazza in the\n",
      " Lumumba had -- has -- captured the popular imagination there . I was curious t\n"
     ]
    }
   ],
   "source": [
    "def get_concordance(corpus, word):\n",
    "    if type(corpus) == str:\n",
    "        corpus = nltk.corpus.brown.words(categories=corpus)\n",
    "    return nltk.Text(corpus).concordance(word)\n",
    "\n",
    "get_concordance(\"lore\", \"popular\")"
   ]
  },
  {
   "cell_type": "code",
   "execution_count": 26,
   "metadata": {},
   "outputs": [
    {
     "name": "stdout",
     "output_type": "stream",
     "text": [
      "Displaying 6 of 6 matches:\n",
      "or are tripping over their feet for popular slogans to win the primary . But we\n",
      "ns are corrupt , selfish and beyond popular control . These voters view the pol\n",
      "dynamite Italian flicker , opens at popular prices at the Loop theater Nov. 2 .\n",
      " Those qualities make Esther Marr a popular asset at the Salvation Army's Socia\n",
      " Days . Ginghams and calico will be popular dress for the women . The men will \n",
      "apstick . Kings 4 , have rated as a popular act in Vegas and Western nightclubs\n"
     ]
    }
   ],
   "source": [
    "get_concordance(\"news\", \"popular\")"
   ]
  },
  {
   "cell_type": "code",
   "execution_count": 27,
   "metadata": {},
   "outputs": [
    {
     "name": "stdout",
     "output_type": "stream",
     "text": [
      "he there what it\n"
     ]
    }
   ],
   "source": [
    "def get_similar(corpus, word):\n",
    "    return nltk.Text(corpus).similar(word)\n",
    "\n",
    "get_similar(scifi_words, \"where\")"
   ]
  },
  {
   "cell_type": "code",
   "execution_count": 28,
   "metadata": {},
   "outputs": [
    {
     "name": "stdout",
     "output_type": "stream",
     "text": [
      "that to in attempt what worried called walk only announce leaving try\n",
      "belong drunk remember refer begin intrigued doris happen\n"
     ]
    }
   ],
   "source": [
    "get_similar(humor_words, \"where\")"
   ]
  }
 ],
 "metadata": {
  "kernelspec": {
   "display_name": "Python 3 (ipykernel)",
   "language": "python",
   "name": "python3"
  },
  "language_info": {
   "codemirror_mode": {
    "name": "ipython",
    "version": 3
   },
   "file_extension": ".py",
   "mimetype": "text/x-python",
   "name": "python",
   "nbconvert_exporter": "python",
   "pygments_lexer": "ipython3",
   "version": "3.10.10"
  },
  "vscode": {
   "interpreter": {
    "hash": "b0fa6594d8f4cbf19f97940f81e996739fb7646882a419484c72d19e05852a7e"
   }
  }
 },
 "nbformat": 4,
 "nbformat_minor": 2
}

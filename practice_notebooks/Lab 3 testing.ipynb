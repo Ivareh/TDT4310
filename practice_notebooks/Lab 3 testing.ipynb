{
 "cells": [
  {
   "cell_type": "code",
   "execution_count": 1,
   "id": "92a8e210",
   "metadata": {},
   "outputs": [],
   "source": [
    "# “The quick brown fox jumps over the lazy dog”\n",
    "# POS tags: (’The’, ’DET’) (’quick’, ’ADJ’) (’brown’, ’ADJ’) (’fox’, ’NOUN’) (’jumped’, ’VERB’) (’over’,\n",
    "# ’ADP’) (’the’, ’DET’) (’lazy’, ’ADJ’) (’dog’, ’NOUN’)\n",
    "\n",
    "# Create a chunker that detects noun-phrases (NPs) and lists the NPs in the sentence"
   ]
  },
  {
   "cell_type": "code",
   "execution_count": 108,
   "id": "8842217c",
   "metadata": {},
   "outputs": [],
   "source": [
    "import spacy"
   ]
  },
  {
   "cell_type": "code",
   "execution_count": 107,
   "id": "c7a76605",
   "metadata": {},
   "outputs": [],
   "source": [
    "from spacy import displacy"
   ]
  },
  {
   "cell_type": "code",
   "execution_count": 109,
   "id": "9e4c4125",
   "metadata": {},
   "outputs": [],
   "source": [
    "from spacy.matcher import Matcher\n",
    "from spacy.util import filter_spans"
   ]
  },
  {
   "cell_type": "code",
   "execution_count": 247,
   "id": "4f9b5fdd",
   "metadata": {},
   "outputs": [],
   "source": [
    "nlp = spacy.load(\"en_core_web_sm\")"
   ]
  },
  {
   "cell_type": "code",
   "execution_count": 104,
   "id": "df32ebcc",
   "metadata": {},
   "outputs": [],
   "source": [
    "sentence = \"The quick brown fox jumps over the lazy dog\""
   ]
  },
  {
   "cell_type": "code",
   "execution_count": 105,
   "id": "44d088c6",
   "metadata": {},
   "outputs": [],
   "source": [
    "doc = nlp(sentence)"
   ]
  },
  {
   "cell_type": "code",
   "execution_count": 92,
   "id": "68264eca",
   "metadata": {},
   "outputs": [
    {
     "data": {
      "text/plain": [
       "[The quick brown fox, the lazy dog]"
      ]
     },
     "execution_count": 92,
     "metadata": {},
     "output_type": "execute_result"
    }
   ],
   "source": [
    "noun_phrases = list(doc.noun_chunks)\n",
    "noun_phrases"
   ]
  },
  {
   "cell_type": "code",
   "execution_count": 99,
   "id": "7ef5a57c",
   "metadata": {},
   "outputs": [],
   "source": [
    "def noun_and_verb_phrases_chunking(sentence):\n",
    "    \n",
    "    verbpattern = [{'POS': 'VERB', 'OP': '?'},\n",
    "           {'POS': 'ADV', 'OP': '*'},\n",
    "           {'POS': 'VERB', 'OP': '+'}]\n",
    "    \n",
    "    nounpattern = [{'POS': 'NOUN'}]\n",
    "\n",
    "\n",
    "    nlp = spacy.load('en_core_web_sm') \n",
    "    \n",
    "    # instantiate a Matcher instance\n",
    "    matcher = Matcher(nlp.vocab)\n",
    "    matcher.add(\"Verb phrase\", [verbpattern])\n",
    "    matcher.add(\"Noun phrase\", [nounpattern])\n",
    "    \n",
    "    doc = nlp(sentence) \n",
    "    # call the matcher to find matches \n",
    "    matches = matcher(doc)\n",
    "    spans = [doc[start:end] for _, start, end in matches]\n",
    "    \n",
    "    return filter_spans(spans)"
   ]
  },
  {
   "cell_type": "code",
   "execution_count": 100,
   "id": "ff0fcfd1",
   "metadata": {},
   "outputs": [
    {
     "data": {
      "text/plain": [
       "[fox, jumps, dog]"
      ]
     },
     "execution_count": 100,
     "metadata": {},
     "output_type": "execute_result"
    }
   ],
   "source": [
    "verb_phrases = noun_and_verb_phrases_chunking(\"The quick brown fox jumps over the lazy dog\")\n",
    "verb_phrases"
   ]
  },
  {
   "cell_type": "code",
   "execution_count": 85,
   "id": "b760b98e",
   "metadata": {},
   "outputs": [
    {
     "data": {
      "text/plain": [
       "[The quick brown fox, the lazy dog, jumps]"
      ]
     },
     "execution_count": 85,
     "metadata": {},
     "output_type": "execute_result"
    }
   ],
   "source": [
    "noun_and_verb_phrases = noun_phrases + verb_phrases\n",
    "noun_and_verb_phrases"
   ]
  },
  {
   "cell_type": "code",
   "execution_count": 110,
   "id": "61bfa85a",
   "metadata": {},
   "outputs": [
    {
     "data": {
      "text/html": [
       "<span class=\"tex2jax_ignore\"><svg xmlns=\"http://www.w3.org/2000/svg\" xmlns:xlink=\"http://www.w3.org/1999/xlink\" xml:lang=\"en\" id=\"0794e6be24f84ce29b76dc985a947c95-0\" class=\"displacy\" width=\"1625\" height=\"399.5\" direction=\"ltr\" style=\"max-width: none; height: 399.5px; color: #000000; background: #ffffff; font-family: Arial; direction: ltr\">\n",
       "<text class=\"displacy-token\" fill=\"currentColor\" text-anchor=\"middle\" y=\"309.5\">\n",
       "    <tspan class=\"displacy-word\" fill=\"currentColor\" x=\"50\">The</tspan>\n",
       "    <tspan class=\"displacy-tag\" dy=\"2em\" fill=\"currentColor\" x=\"50\">DET</tspan>\n",
       "</text>\n",
       "\n",
       "<text class=\"displacy-token\" fill=\"currentColor\" text-anchor=\"middle\" y=\"309.5\">\n",
       "    <tspan class=\"displacy-word\" fill=\"currentColor\" x=\"225\">quick</tspan>\n",
       "    <tspan class=\"displacy-tag\" dy=\"2em\" fill=\"currentColor\" x=\"225\">ADJ</tspan>\n",
       "</text>\n",
       "\n",
       "<text class=\"displacy-token\" fill=\"currentColor\" text-anchor=\"middle\" y=\"309.5\">\n",
       "    <tspan class=\"displacy-word\" fill=\"currentColor\" x=\"400\">brown</tspan>\n",
       "    <tspan class=\"displacy-tag\" dy=\"2em\" fill=\"currentColor\" x=\"400\">ADJ</tspan>\n",
       "</text>\n",
       "\n",
       "<text class=\"displacy-token\" fill=\"currentColor\" text-anchor=\"middle\" y=\"309.5\">\n",
       "    <tspan class=\"displacy-word\" fill=\"currentColor\" x=\"575\">fox</tspan>\n",
       "    <tspan class=\"displacy-tag\" dy=\"2em\" fill=\"currentColor\" x=\"575\">NOUN</tspan>\n",
       "</text>\n",
       "\n",
       "<text class=\"displacy-token\" fill=\"currentColor\" text-anchor=\"middle\" y=\"309.5\">\n",
       "    <tspan class=\"displacy-word\" fill=\"currentColor\" x=\"750\">jumps</tspan>\n",
       "    <tspan class=\"displacy-tag\" dy=\"2em\" fill=\"currentColor\" x=\"750\">VERB</tspan>\n",
       "</text>\n",
       "\n",
       "<text class=\"displacy-token\" fill=\"currentColor\" text-anchor=\"middle\" y=\"309.5\">\n",
       "    <tspan class=\"displacy-word\" fill=\"currentColor\" x=\"925\">over</tspan>\n",
       "    <tspan class=\"displacy-tag\" dy=\"2em\" fill=\"currentColor\" x=\"925\">ADP</tspan>\n",
       "</text>\n",
       "\n",
       "<text class=\"displacy-token\" fill=\"currentColor\" text-anchor=\"middle\" y=\"309.5\">\n",
       "    <tspan class=\"displacy-word\" fill=\"currentColor\" x=\"1100\">the</tspan>\n",
       "    <tspan class=\"displacy-tag\" dy=\"2em\" fill=\"currentColor\" x=\"1100\">DET</tspan>\n",
       "</text>\n",
       "\n",
       "<text class=\"displacy-token\" fill=\"currentColor\" text-anchor=\"middle\" y=\"309.5\">\n",
       "    <tspan class=\"displacy-word\" fill=\"currentColor\" x=\"1275\">lazy</tspan>\n",
       "    <tspan class=\"displacy-tag\" dy=\"2em\" fill=\"currentColor\" x=\"1275\">ADJ</tspan>\n",
       "</text>\n",
       "\n",
       "<text class=\"displacy-token\" fill=\"currentColor\" text-anchor=\"middle\" y=\"309.5\">\n",
       "    <tspan class=\"displacy-word\" fill=\"currentColor\" x=\"1450\">dog</tspan>\n",
       "    <tspan class=\"displacy-tag\" dy=\"2em\" fill=\"currentColor\" x=\"1450\">NOUN</tspan>\n",
       "</text>\n",
       "\n",
       "<g class=\"displacy-arrow\">\n",
       "    <path class=\"displacy-arc\" id=\"arrow-0794e6be24f84ce29b76dc985a947c95-0-0\" stroke-width=\"2px\" d=\"M70,264.5 C70,2.0 575.0,2.0 575.0,264.5\" fill=\"none\" stroke=\"currentColor\"/>\n",
       "    <text dy=\"1.25em\" style=\"font-size: 0.8em; letter-spacing: 1px\">\n",
       "        <textPath xlink:href=\"#arrow-0794e6be24f84ce29b76dc985a947c95-0-0\" class=\"displacy-label\" startOffset=\"50%\" side=\"left\" fill=\"currentColor\" text-anchor=\"middle\">det</textPath>\n",
       "    </text>\n",
       "    <path class=\"displacy-arrowhead\" d=\"M70,266.5 L62,254.5 78,254.5\" fill=\"currentColor\"/>\n",
       "</g>\n",
       "\n",
       "<g class=\"displacy-arrow\">\n",
       "    <path class=\"displacy-arc\" id=\"arrow-0794e6be24f84ce29b76dc985a947c95-0-1\" stroke-width=\"2px\" d=\"M245,264.5 C245,89.5 570.0,89.5 570.0,264.5\" fill=\"none\" stroke=\"currentColor\"/>\n",
       "    <text dy=\"1.25em\" style=\"font-size: 0.8em; letter-spacing: 1px\">\n",
       "        <textPath xlink:href=\"#arrow-0794e6be24f84ce29b76dc985a947c95-0-1\" class=\"displacy-label\" startOffset=\"50%\" side=\"left\" fill=\"currentColor\" text-anchor=\"middle\">amod</textPath>\n",
       "    </text>\n",
       "    <path class=\"displacy-arrowhead\" d=\"M245,266.5 L237,254.5 253,254.5\" fill=\"currentColor\"/>\n",
       "</g>\n",
       "\n",
       "<g class=\"displacy-arrow\">\n",
       "    <path class=\"displacy-arc\" id=\"arrow-0794e6be24f84ce29b76dc985a947c95-0-2\" stroke-width=\"2px\" d=\"M420,264.5 C420,177.0 565.0,177.0 565.0,264.5\" fill=\"none\" stroke=\"currentColor\"/>\n",
       "    <text dy=\"1.25em\" style=\"font-size: 0.8em; letter-spacing: 1px\">\n",
       "        <textPath xlink:href=\"#arrow-0794e6be24f84ce29b76dc985a947c95-0-2\" class=\"displacy-label\" startOffset=\"50%\" side=\"left\" fill=\"currentColor\" text-anchor=\"middle\">amod</textPath>\n",
       "    </text>\n",
       "    <path class=\"displacy-arrowhead\" d=\"M420,266.5 L412,254.5 428,254.5\" fill=\"currentColor\"/>\n",
       "</g>\n",
       "\n",
       "<g class=\"displacy-arrow\">\n",
       "    <path class=\"displacy-arc\" id=\"arrow-0794e6be24f84ce29b76dc985a947c95-0-3\" stroke-width=\"2px\" d=\"M595,264.5 C595,177.0 740.0,177.0 740.0,264.5\" fill=\"none\" stroke=\"currentColor\"/>\n",
       "    <text dy=\"1.25em\" style=\"font-size: 0.8em; letter-spacing: 1px\">\n",
       "        <textPath xlink:href=\"#arrow-0794e6be24f84ce29b76dc985a947c95-0-3\" class=\"displacy-label\" startOffset=\"50%\" side=\"left\" fill=\"currentColor\" text-anchor=\"middle\">nsubj</textPath>\n",
       "    </text>\n",
       "    <path class=\"displacy-arrowhead\" d=\"M595,266.5 L587,254.5 603,254.5\" fill=\"currentColor\"/>\n",
       "</g>\n",
       "\n",
       "<g class=\"displacy-arrow\">\n",
       "    <path class=\"displacy-arc\" id=\"arrow-0794e6be24f84ce29b76dc985a947c95-0-4\" stroke-width=\"2px\" d=\"M770,264.5 C770,177.0 915.0,177.0 915.0,264.5\" fill=\"none\" stroke=\"currentColor\"/>\n",
       "    <text dy=\"1.25em\" style=\"font-size: 0.8em; letter-spacing: 1px\">\n",
       "        <textPath xlink:href=\"#arrow-0794e6be24f84ce29b76dc985a947c95-0-4\" class=\"displacy-label\" startOffset=\"50%\" side=\"left\" fill=\"currentColor\" text-anchor=\"middle\">prep</textPath>\n",
       "    </text>\n",
       "    <path class=\"displacy-arrowhead\" d=\"M915.0,266.5 L923.0,254.5 907.0,254.5\" fill=\"currentColor\"/>\n",
       "</g>\n",
       "\n",
       "<g class=\"displacy-arrow\">\n",
       "    <path class=\"displacy-arc\" id=\"arrow-0794e6be24f84ce29b76dc985a947c95-0-5\" stroke-width=\"2px\" d=\"M1120,264.5 C1120,89.5 1445.0,89.5 1445.0,264.5\" fill=\"none\" stroke=\"currentColor\"/>\n",
       "    <text dy=\"1.25em\" style=\"font-size: 0.8em; letter-spacing: 1px\">\n",
       "        <textPath xlink:href=\"#arrow-0794e6be24f84ce29b76dc985a947c95-0-5\" class=\"displacy-label\" startOffset=\"50%\" side=\"left\" fill=\"currentColor\" text-anchor=\"middle\">det</textPath>\n",
       "    </text>\n",
       "    <path class=\"displacy-arrowhead\" d=\"M1120,266.5 L1112,254.5 1128,254.5\" fill=\"currentColor\"/>\n",
       "</g>\n",
       "\n",
       "<g class=\"displacy-arrow\">\n",
       "    <path class=\"displacy-arc\" id=\"arrow-0794e6be24f84ce29b76dc985a947c95-0-6\" stroke-width=\"2px\" d=\"M1295,264.5 C1295,177.0 1440.0,177.0 1440.0,264.5\" fill=\"none\" stroke=\"currentColor\"/>\n",
       "    <text dy=\"1.25em\" style=\"font-size: 0.8em; letter-spacing: 1px\">\n",
       "        <textPath xlink:href=\"#arrow-0794e6be24f84ce29b76dc985a947c95-0-6\" class=\"displacy-label\" startOffset=\"50%\" side=\"left\" fill=\"currentColor\" text-anchor=\"middle\">amod</textPath>\n",
       "    </text>\n",
       "    <path class=\"displacy-arrowhead\" d=\"M1295,266.5 L1287,254.5 1303,254.5\" fill=\"currentColor\"/>\n",
       "</g>\n",
       "\n",
       "<g class=\"displacy-arrow\">\n",
       "    <path class=\"displacy-arc\" id=\"arrow-0794e6be24f84ce29b76dc985a947c95-0-7\" stroke-width=\"2px\" d=\"M945,264.5 C945,2.0 1450.0,2.0 1450.0,264.5\" fill=\"none\" stroke=\"currentColor\"/>\n",
       "    <text dy=\"1.25em\" style=\"font-size: 0.8em; letter-spacing: 1px\">\n",
       "        <textPath xlink:href=\"#arrow-0794e6be24f84ce29b76dc985a947c95-0-7\" class=\"displacy-label\" startOffset=\"50%\" side=\"left\" fill=\"currentColor\" text-anchor=\"middle\">pobj</textPath>\n",
       "    </text>\n",
       "    <path class=\"displacy-arrowhead\" d=\"M1450.0,266.5 L1458.0,254.5 1442.0,254.5\" fill=\"currentColor\"/>\n",
       "</g>\n",
       "</svg></span>"
      ],
      "text/plain": [
       "<IPython.core.display.HTML object>"
      ]
     },
     "metadata": {},
     "output_type": "display_data"
    }
   ],
   "source": [
    "nlp=spacy.load('en_core_web_sm')\n",
    "displacy.render(doc,jupyter=True)"
   ]
  },
  {
   "cell_type": "code",
   "execution_count": 120,
   "id": "a7aaa2a1",
   "metadata": {},
   "outputs": [],
   "source": [
    "subjectAndObjects = []\n",
    "for token in doc:\n",
    "    if(token.dep_ == \"nsubj\" or token.dep_ == \"dobj\" or token.dep_ == \"pobj\"):\n",
    "        subjectAndObjects.append(token.text)"
   ]
  },
  {
   "cell_type": "code",
   "execution_count": 121,
   "id": "e4618ce6",
   "metadata": {},
   "outputs": [
    {
     "name": "stdout",
     "output_type": "stream",
     "text": [
      "['fox', 'dog']\n"
     ]
    }
   ],
   "source": [
    "print(subjectAndObjects)"
   ]
  },
  {
   "cell_type": "code",
   "execution_count": 122,
   "id": "76a0b573",
   "metadata": {},
   "outputs": [],
   "source": [
    "from nltk.corpus import wordnet as wn"
   ]
  },
  {
   "cell_type": "code",
   "execution_count": 242,
   "id": "06f47506",
   "metadata": {},
   "outputs": [],
   "source": [
    "from nltk.stem import WordNetLemmatizer"
   ]
  },
  {
   "cell_type": "code",
   "execution_count": 159,
   "id": "dc79e93e",
   "metadata": {},
   "outputs": [],
   "source": [
    "import nltk"
   ]
  },
  {
   "cell_type": "code",
   "execution_count": 160,
   "id": "7f7a3a71",
   "metadata": {},
   "outputs": [],
   "source": [
    "def getSynonyms(word):\n",
    "    return wn.synonyms(word)"
   ]
  },
  {
   "cell_type": "code",
   "execution_count": 161,
   "id": "90cd2228",
   "metadata": {},
   "outputs": [
    {
     "data": {
      "text/plain": [
       "[['auto', 'automobile', 'machine', 'motorcar'],\n",
       " ['railcar', 'railroad_car', 'railway_car'],\n",
       " ['gondola'],\n",
       " ['elevator_car'],\n",
       " ['cable_car']]"
      ]
     },
     "execution_count": 161,
     "metadata": {},
     "output_type": "execute_result"
    }
   ],
   "source": [
    "getSynonyms(\"car\")"
   ]
  },
  {
   "cell_type": "code",
   "execution_count": 162,
   "id": "4402c4af",
   "metadata": {},
   "outputs": [],
   "source": [
    "from nltk.corpus import sentiwordnet as swn"
   ]
  },
  {
   "cell_type": "code",
   "execution_count": 165,
   "id": "e342f5d2",
   "metadata": {},
   "outputs": [],
   "source": [
    "from spacy.tokenizer import Tokenizer"
   ]
  },
  {
   "cell_type": "code",
   "execution_count": 167,
   "id": "2bc5182f",
   "metadata": {},
   "outputs": [],
   "source": [
    "from spacy.lang.en import English"
   ]
  },
  {
   "cell_type": "code",
   "execution_count": 184,
   "id": "9039388a",
   "metadata": {},
   "outputs": [],
   "source": [
    "import re"
   ]
  },
  {
   "cell_type": "code",
   "execution_count": 335,
   "id": "a593884d",
   "metadata": {},
   "outputs": [],
   "source": [
    "# From https://nlpforhackers.io/sentiment-analysis-intro/\n",
    "def tag_to_sent_tag(tag):\n"
   ]
  },
  {
   "cell_type": "code",
   "execution_count": 320,
   "id": "ffd3f346",
   "metadata": {},
   "outputs": [],
   "source": [
    "def clean_text(text):\n",
    "    text = text.replace(\"<br />\", \" \")\n",
    "    return text"
   ]
  },
  {
   "cell_type": "code",
   "execution_count": 384,
   "id": "70178b21",
   "metadata": {},
   "outputs": [],
   "source": [
    "def getSentiment(sentence):\n",
    "    # Get POS-tags with WordNet\n",
    "    # Lemmatize to get more reliable score with stem of words\n",
    "    lemmatizer = WordNetLemmatizer()\n",
    "    clean_text(sentence)\n",
    "    score = 0.0\n",
    "\n",
    "    for word in sentence.split():\n",
    "        lemmatizer.lemmatize(word)\n",
    "        if not word:\n",
    "            continue\n",
    "        # Get POS-tags from the word in sentence\n",
    "        postag = nltk.pos_tag([word])\n",
    "        for word,tag in postag:\n",
    "            # We convert tag to get used in sentiwordnet functions\n",
    "            good_tag = \"\"\n",
    "            if tag.startswith('J'):\n",
    "                good_tag = wn.ADJ\n",
    "            elif tag.startswith('R'):\n",
    "                good_tag = wn.ADV\n",
    "            elif tag.startswith('N'):\n",
    "                good_tag = wn.NOUN\n",
    "            elif tag.startswith('V'):\n",
    "                good_tag = wn.VERB\n",
    "            \n",
    "            if good_tag not in (wn.NOUN, wn.ADJ, wn.ADV):\n",
    "                continue\n",
    "            \n",
    "            # Look up the word using synsets from wordnet with its POS tag\n",
    "            synsets = wn.synsets(word, pos=good_tag)\n",
    "            if not synsets:\n",
    "                    continue\n",
    "                \n",
    "            # Use [0] to get most common synset to be used in sentiment\n",
    "            synset = synsets[0]\n",
    "            # Get sentiment synset text name\n",
    "            swn_synset = swn.senti_synset(synset.name())\n",
    "            \n",
    "            # We add score from sentiment\n",
    "            score += swn_synset.pos_score() - swn_synset.neg_score()\n",
    "         \n",
    "        \n",
    "    # We return 1 if positive score in sentiment or 0 if it's negative score\n",
    "    print(\"Score: \" + str(score))\n",
    "    if score > 0:\n",
    "        return 1\n",
    "    return 0\n",
    "    "
   ]
  },
  {
   "cell_type": "code",
   "execution_count": 385,
   "id": "d05ad038",
   "metadata": {},
   "outputs": [
    {
     "name": "stdout",
     "output_type": "stream",
     "text": [
      "Score: -0.875\n"
     ]
    },
    {
     "data": {
      "text/plain": [
       "0"
      ]
     },
     "execution_count": 385,
     "metadata": {},
     "output_type": "execute_result"
    }
   ],
   "source": [
    "getSentiment('Well, I don’t hate it, but it’s not the greatest!')"
   ]
  },
  {
   "cell_type": "code",
   "execution_count": 312,
   "id": "2c6604e8",
   "metadata": {},
   "outputs": [
    {
     "data": {
      "text/plain": [
       "['Well, I don’t hate it, but it’s not the greatest!']"
      ]
     },
     "execution_count": 312,
     "metadata": {},
     "output_type": "execute_result"
    }
   ],
   "source": [
    "senttoken = nltk.sent_tokenize('Well, I don’t hate it, but it’s not the greatest!')\n",
    "senttoken"
   ]
  },
  {
   "cell_type": "code",
   "execution_count": 324,
   "id": "75998a2e",
   "metadata": {},
   "outputs": [
    {
     "data": {
      "text/plain": [
       "'Well, I don’t hate it, but it’s not the greatest!'"
      ]
     },
     "execution_count": 324,
     "metadata": {},
     "output_type": "execute_result"
    }
   ],
   "source": [
    "clean_text('Well, I don’t hate it, but it’s  the greatest!')"
   ]
  },
  {
   "cell_type": "code",
   "execution_count": 329,
   "id": "38ee510b",
   "metadata": {},
   "outputs": [
    {
     "data": {
      "text/plain": [
       "[('greatest', 'JJS')]"
      ]
     },
     "execution_count": 329,
     "metadata": {},
     "output_type": "execute_result"
    }
   ],
   "source": [
    "nltk.pos_tag([\"greatest\"])"
   ]
  },
  {
   "cell_type": "code",
   "execution_count": 332,
   "id": "6330c93d",
   "metadata": {},
   "outputs": [
    {
     "name": "stdout",
     "output_type": "stream",
     "text": [
      "Help on WordNetLemmatizer in module nltk.stem.wordnet object:\n",
      "\n",
      "class WordNetLemmatizer(builtins.object)\n",
      " |  WordNet Lemmatizer\n",
      " |  \n",
      " |  Lemmatize using WordNet's built-in morphy function.\n",
      " |  Returns the input word unchanged if it cannot be found in WordNet.\n",
      " |  \n",
      " |      >>> from nltk.stem import WordNetLemmatizer\n",
      " |      >>> wnl = WordNetLemmatizer()\n",
      " |      >>> print(wnl.lemmatize('dogs'))\n",
      " |      dog\n",
      " |      >>> print(wnl.lemmatize('churches'))\n",
      " |      church\n",
      " |      >>> print(wnl.lemmatize('aardwolves'))\n",
      " |      aardwolf\n",
      " |      >>> print(wnl.lemmatize('abaci'))\n",
      " |      abacus\n",
      " |      >>> print(wnl.lemmatize('hardrock'))\n",
      " |      hardrock\n",
      " |  \n",
      " |  Methods defined here:\n",
      " |  \n",
      " |  __repr__(self)\n",
      " |      Return repr(self).\n",
      " |  \n",
      " |  lemmatize(self, word: str, pos: str = 'n') -> str\n",
      " |      Lemmatize `word` using WordNet's built-in morphy function.\n",
      " |      Returns the input word unchanged if it cannot be found in WordNet.\n",
      " |      \n",
      " |      :param word: The input word to lemmatize.\n",
      " |      :type word: str\n",
      " |      :param pos: The Part Of Speech tag. Valid options are `\"n\"` for nouns,\n",
      " |          `\"v\"` for verbs, `\"a\"` for adjectives, `\"r\"` for adverbs and `\"s\"`\n",
      " |          for satellite adjectives.\n",
      " |      :param pos: str\n",
      " |      :return: The lemma of `word`, for the given `pos`.\n",
      " |  \n",
      " |  ----------------------------------------------------------------------\n",
      " |  Data descriptors defined here:\n",
      " |  \n",
      " |  __dict__\n",
      " |      dictionary for instance variables (if defined)\n",
      " |  \n",
      " |  __weakref__\n",
      " |      list of weak references to the object (if defined)\n",
      "\n"
     ]
    }
   ],
   "source": [
    "help(WordNetLemmatizer())"
   ]
  },
  {
   "cell_type": "code",
   "execution_count": null,
   "id": "348c2b1c",
   "metadata": {},
   "outputs": [],
   "source": []
  }
 ],
 "metadata": {
  "kernelspec": {
   "display_name": "Python 3 (ipykernel)",
   "language": "python",
   "name": "python3"
  },
  "language_info": {
   "codemirror_mode": {
    "name": "ipython",
    "version": 3
   },
   "file_extension": ".py",
   "mimetype": "text/x-python",
   "name": "python",
   "nbconvert_exporter": "python",
   "pygments_lexer": "ipython3",
   "version": "3.10.10"
  }
 },
 "nbformat": 4,
 "nbformat_minor": 5
}

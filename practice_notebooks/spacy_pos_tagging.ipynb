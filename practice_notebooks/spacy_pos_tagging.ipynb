{
 "cells": [
  {
   "cell_type": "code",
   "execution_count": 2,
   "metadata": {},
   "outputs": [],
   "source": [
    "import spacy\n",
    "import nltk\n",
    "nlp = spacy.load(\"en_core_web_sm\")"
   ]
  },
  {
   "cell_type": "code",
   "execution_count": 23,
   "metadata": {},
   "outputs": [
    {
     "data": {
      "text/plain": [
       "[['The',\n",
       "  'Fulton',\n",
       "  'County',\n",
       "  'Grand',\n",
       "  'Jury',\n",
       "  'said',\n",
       "  'Friday',\n",
       "  'an',\n",
       "  'investigation',\n",
       "  'of',\n",
       "  \"Atlanta's\",\n",
       "  'recent',\n",
       "  'primary',\n",
       "  'election',\n",
       "  'produced',\n",
       "  '``',\n",
       "  'no',\n",
       "  'evidence',\n",
       "  \"''\",\n",
       "  'that',\n",
       "  'any',\n",
       "  'irregularities',\n",
       "  'took',\n",
       "  'place',\n",
       "  '.'],\n",
       " ['The',\n",
       "  'jury',\n",
       "  'further',\n",
       "  'said',\n",
       "  'in',\n",
       "  'term-end',\n",
       "  'presentments',\n",
       "  'that',\n",
       "  'the',\n",
       "  'City',\n",
       "  'Executive',\n",
       "  'Committee',\n",
       "  ',',\n",
       "  'which',\n",
       "  'had',\n",
       "  'over-all',\n",
       "  'charge',\n",
       "  'of',\n",
       "  'the',\n",
       "  'election',\n",
       "  ',',\n",
       "  '``',\n",
       "  'deserves',\n",
       "  'the',\n",
       "  'praise',\n",
       "  'and',\n",
       "  'thanks',\n",
       "  'of',\n",
       "  'the',\n",
       "  'City',\n",
       "  'of',\n",
       "  'Atlanta',\n",
       "  \"''\",\n",
       "  'for',\n",
       "  'the',\n",
       "  'manner',\n",
       "  'in',\n",
       "  'which',\n",
       "  'the',\n",
       "  'election',\n",
       "  'was',\n",
       "  'conducted',\n",
       "  '.'],\n",
       " ['The',\n",
       "  'September-October',\n",
       "  'term',\n",
       "  'jury',\n",
       "  'had',\n",
       "  'been',\n",
       "  'charged',\n",
       "  'by',\n",
       "  'Fulton',\n",
       "  'Superior',\n",
       "  'Court',\n",
       "  'Judge',\n",
       "  'Durwood',\n",
       "  'Pye',\n",
       "  'to',\n",
       "  'investigate',\n",
       "  'reports',\n",
       "  'of',\n",
       "  'possible',\n",
       "  '``',\n",
       "  'irregularities',\n",
       "  \"''\",\n",
       "  'in',\n",
       "  'the',\n",
       "  'hard-fought',\n",
       "  'primary',\n",
       "  'which',\n",
       "  'was',\n",
       "  'won',\n",
       "  'by',\n",
       "  'Mayor-nominate',\n",
       "  'Ivan',\n",
       "  'Allen',\n",
       "  'Jr.',\n",
       "  '.'],\n",
       " ['``',\n",
       "  'Only',\n",
       "  'a',\n",
       "  'relative',\n",
       "  'handful',\n",
       "  'of',\n",
       "  'such',\n",
       "  'reports',\n",
       "  'was',\n",
       "  'received',\n",
       "  \"''\",\n",
       "  ',',\n",
       "  'the',\n",
       "  'jury',\n",
       "  'said',\n",
       "  ',',\n",
       "  '``',\n",
       "  'considering',\n",
       "  'the',\n",
       "  'widespread',\n",
       "  'interest',\n",
       "  'in',\n",
       "  'the',\n",
       "  'election',\n",
       "  ',',\n",
       "  'the',\n",
       "  'number',\n",
       "  'of',\n",
       "  'voters',\n",
       "  'and',\n",
       "  'the',\n",
       "  'size',\n",
       "  'of',\n",
       "  'this',\n",
       "  'city',\n",
       "  \"''\",\n",
       "  '.'],\n",
       " ['The',\n",
       "  'jury',\n",
       "  'said',\n",
       "  'it',\n",
       "  'did',\n",
       "  'find',\n",
       "  'that',\n",
       "  'many',\n",
       "  'of',\n",
       "  \"Georgia's\",\n",
       "  'registration',\n",
       "  'and',\n",
       "  'election',\n",
       "  'laws',\n",
       "  '``',\n",
       "  'are',\n",
       "  'outmoded',\n",
       "  'or',\n",
       "  'inadequate',\n",
       "  'and',\n",
       "  'often',\n",
       "  'ambiguous',\n",
       "  \"''\",\n",
       "  '.']]"
      ]
     },
     "execution_count": 23,
     "metadata": {},
     "output_type": "execute_result"
    }
   ],
   "source": [
    "corpus = nltk.corpus.brown.sents()[:5]"
   ]
  },
  {
   "cell_type": "code",
   "execution_count": 18,
   "metadata": {},
   "outputs": [
    {
     "data": {
      "text/plain": [
       "['The Fulton County Grand Jury said Friday an investigation of Atlanta s recent primary election produced no evidence that any irregularities took place .',\n",
       " 'The jury further said in term end presentments that the City Executive Committee , which had over all charge of the election , deserves the praise and thanks of the City of Atlanta for the manner in which the election was conducted .',\n",
       " 'The September October term jury had been charged by Fulton Superior Court Judge Durwood Pye to investigate reports of possible irregularities in the hard fought primary which was won by Mayor nominate Ivan Allen Jr. .',\n",
       " 'Only a relative handful of such reports was received , the jury said , considering the widespread interest in the election , the number of voters and the size of this city .',\n",
       " 'The jury said it did find that many of Georgia s registration and election laws are outmoded or inadequate and often ambiguous .']"
      ]
     },
     "execution_count": 18,
     "metadata": {},
     "output_type": "execute_result"
    }
   ],
   "source": [
    "import re\n",
    "\n",
    "corpus = nltk.corpus.brown.sents()[:5]\n",
    "def preprocess(sent):\n",
    "    sent = \" \".join(sent)\n",
    "    sent = re.sub(r\"[^\\w,.!?]\", \" \", sent)\n",
    "    sent = re.sub(r\"\\s+\", \" \", sent)\n",
    "    return sent.strip()\n",
    "corpus = [preprocess(sent) for sent in corpus]\n",
    "corpus"
   ]
  },
  {
   "cell_type": "code",
   "execution_count": 4,
   "metadata": {},
   "outputs": [],
   "source": [
    "corpus = \" \".join(nltk.corpus.brown.words(categories=\"news\"))"
   ]
  },
  {
   "cell_type": "code",
   "execution_count": 5,
   "metadata": {},
   "outputs": [],
   "source": [
    "doc = nlp(corpus)"
   ]
  },
  {
   "cell_type": "code",
   "execution_count": 8,
   "metadata": {},
   "outputs": [
    {
     "data": {
      "text/plain": [
       "[The Fulton County Grand Jury,\n",
       " an investigation,\n",
       " Atlanta's recent primary election,\n",
       " no evidence,\n",
       " any irregularities,\n",
       " place,\n",
       " The jury,\n",
       " term-end presentments,\n",
       " the City Executive Committee,\n",
       " which]"
      ]
     },
     "execution_count": 8,
     "metadata": {},
     "output_type": "execute_result"
    }
   ],
   "source": [
    "list(doc.noun_chunks)[0:10]"
   ]
  },
  {
   "cell_type": "code",
   "execution_count": 10,
   "metadata": {},
   "outputs": [
    {
     "ename": "AttributeError",
     "evalue": "'spacy.tokens.span.Span' object has no attribute 'merge'",
     "output_type": "error",
     "traceback": [
      "\u001b[1;31m---------------------------------------------------------------------------\u001b[0m",
      "\u001b[1;31mAttributeError\u001b[0m                            Traceback (most recent call last)",
      "Cell \u001b[1;32mIn[10], line 2\u001b[0m\n\u001b[0;32m      1\u001b[0m \u001b[38;5;28;01mfor\u001b[39;00m noun_phrase \u001b[38;5;129;01min\u001b[39;00m \u001b[38;5;28mlist\u001b[39m(doc\u001b[38;5;241m.\u001b[39mnoun_chunks):\n\u001b[1;32m----> 2\u001b[0m     \u001b[43mnoun_phrase\u001b[49m\u001b[38;5;241;43m.\u001b[39;49m\u001b[43mmerge\u001b[49m(noun_phrase\u001b[38;5;241m.\u001b[39mroot\u001b[38;5;241m.\u001b[39mtag_, noun_phrase\u001b[38;5;241m.\u001b[39mroot\u001b[38;5;241m.\u001b[39mtag_)\n",
      "\u001b[1;31mAttributeError\u001b[0m: 'spacy.tokens.span.Span' object has no attribute 'merge'"
     ]
    }
   ],
   "source": [
    "for noun_phrase in list(doc.noun_chunks):\n",
    "    noun_phrase.merge(noun_phrase.root.tag_, noun_phrase.root.tag_)\n"
   ]
  },
  {
   "cell_type": "code",
   "execution_count": null,
   "metadata": {},
   "outputs": [],
   "source": []
  }
 ],
 "metadata": {
  "kernelspec": {
   "display_name": "Python 3 (ipykernel)",
   "language": "python",
   "name": "python3"
  },
  "language_info": {
   "codemirror_mode": {
    "name": "ipython",
    "version": 3
   },
   "file_extension": ".py",
   "mimetype": "text/x-python",
   "name": "python",
   "nbconvert_exporter": "python",
   "pygments_lexer": "ipython3",
   "version": "3.10.10"
  },
  "vscode": {
   "interpreter": {
    "hash": "29f1e52c0d8d5e5ede6aaca4be8238d35b46afd62a3b8286547e2768de775769"
   }
  }
 },
 "nbformat": 4,
 "nbformat_minor": 2
}
